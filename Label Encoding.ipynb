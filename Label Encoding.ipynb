{
 "cells": [
  {
   "cell_type": "code",
   "execution_count": 1,
   "metadata": {
    "collapsed": true
   },
   "outputs": [],
   "source": [
    "import pandas as pd\n",
    "import numpy as np\n",
    "from sklearn import preprocessing\n",
    "from sklearn.preprocessing import LabelEncoder"
   ]
  },
  {
   "cell_type": "code",
   "execution_count": 2,
   "outputs": [],
   "source": [
    "df = pd.read_csv('D:\\Project\\DDOS\\Data-Analysis\\data-cleaned .csv')"
   ],
   "metadata": {
    "collapsed": false
   }
  },
  {
   "cell_type": "code",
   "execution_count": 3,
   "outputs": [
    {
     "data": {
      "text/plain": "   DateReceive  Product  SubProduct  Issue  SubIssue  \\\n0            0        0           0      0         0   \n1            0        0           0      0         0   \n2            1        0           0      1         1   \n3            0        0           0      1         1   \n4            2        1           1      2         2   \n\n   ConsumerComplaintNarrative  CompanyPublicResponse  Company  State  Tags  \\\n0                           0                      0        0      0     0   \n1                         359                      0        0      2     0   \n2                           1                      1        1      1     0   \n3                           1                      0        0     25     0   \n4                           2                      0        2      2     0   \n\n   ConsumerConsentProvided  SubmittedVia  DateSendToCompany  \\\n0                        0             0                  0   \n1                        0             0                  0   \n2                        1             0                  1   \n3                        2             0                  0   \n4                        0             0                  2   \n\n   CompanyResponseToConsumer  TimelyResponse  ConsumerDisputed  ComplaintId  \n0                          0               0                 0            0  \n1                          0               0                 0          542  \n2                          1               0                 0            1  \n3                          0               0                 0        11239  \n4                          2               0                 0            2  ",
      "text/html": "<div>\n<style scoped>\n    .dataframe tbody tr th:only-of-type {\n        vertical-align: middle;\n    }\n\n    .dataframe tbody tr th {\n        vertical-align: top;\n    }\n\n    .dataframe thead th {\n        text-align: right;\n    }\n</style>\n<table border=\"1\" class=\"dataframe\">\n  <thead>\n    <tr style=\"text-align: right;\">\n      <th></th>\n      <th>DateReceive</th>\n      <th>Product</th>\n      <th>SubProduct</th>\n      <th>Issue</th>\n      <th>SubIssue</th>\n      <th>ConsumerComplaintNarrative</th>\n      <th>CompanyPublicResponse</th>\n      <th>Company</th>\n      <th>State</th>\n      <th>Tags</th>\n      <th>ConsumerConsentProvided</th>\n      <th>SubmittedVia</th>\n      <th>DateSendToCompany</th>\n      <th>CompanyResponseToConsumer</th>\n      <th>TimelyResponse</th>\n      <th>ConsumerDisputed</th>\n      <th>ComplaintId</th>\n    </tr>\n  </thead>\n  <tbody>\n    <tr>\n      <th>0</th>\n      <td>0</td>\n      <td>0</td>\n      <td>0</td>\n      <td>0</td>\n      <td>0</td>\n      <td>0</td>\n      <td>0</td>\n      <td>0</td>\n      <td>0</td>\n      <td>0</td>\n      <td>0</td>\n      <td>0</td>\n      <td>0</td>\n      <td>0</td>\n      <td>0</td>\n      <td>0</td>\n      <td>0</td>\n    </tr>\n    <tr>\n      <th>1</th>\n      <td>0</td>\n      <td>0</td>\n      <td>0</td>\n      <td>0</td>\n      <td>0</td>\n      <td>359</td>\n      <td>0</td>\n      <td>0</td>\n      <td>2</td>\n      <td>0</td>\n      <td>0</td>\n      <td>0</td>\n      <td>0</td>\n      <td>0</td>\n      <td>0</td>\n      <td>0</td>\n      <td>542</td>\n    </tr>\n    <tr>\n      <th>2</th>\n      <td>1</td>\n      <td>0</td>\n      <td>0</td>\n      <td>1</td>\n      <td>1</td>\n      <td>1</td>\n      <td>1</td>\n      <td>1</td>\n      <td>1</td>\n      <td>0</td>\n      <td>1</td>\n      <td>0</td>\n      <td>1</td>\n      <td>1</td>\n      <td>0</td>\n      <td>0</td>\n      <td>1</td>\n    </tr>\n    <tr>\n      <th>3</th>\n      <td>0</td>\n      <td>0</td>\n      <td>0</td>\n      <td>1</td>\n      <td>1</td>\n      <td>1</td>\n      <td>0</td>\n      <td>0</td>\n      <td>25</td>\n      <td>0</td>\n      <td>2</td>\n      <td>0</td>\n      <td>0</td>\n      <td>0</td>\n      <td>0</td>\n      <td>0</td>\n      <td>11239</td>\n    </tr>\n    <tr>\n      <th>4</th>\n      <td>2</td>\n      <td>1</td>\n      <td>1</td>\n      <td>2</td>\n      <td>2</td>\n      <td>2</td>\n      <td>0</td>\n      <td>2</td>\n      <td>2</td>\n      <td>0</td>\n      <td>0</td>\n      <td>0</td>\n      <td>2</td>\n      <td>2</td>\n      <td>0</td>\n      <td>0</td>\n      <td>2</td>\n    </tr>\n  </tbody>\n</table>\n</div>"
     },
     "execution_count": 3,
     "metadata": {},
     "output_type": "execute_result"
    }
   ],
   "source": [
    "df.head()"
   ],
   "metadata": {
    "collapsed": false
   }
  },
  {
   "cell_type": "code",
   "execution_count": 4,
   "outputs": [],
   "source": [
    "le = LabelEncoder()"
   ],
   "metadata": {
    "collapsed": false
   }
  },
  {
   "cell_type": "code",
   "execution_count": 6,
   "outputs": [
    {
     "ename": "NameError",
     "evalue": "name 'fit_transform' is not defined",
     "output_type": "error",
     "traceback": [
      "\u001B[1;31m---------------------------------------------------------------------------\u001B[0m",
      "\u001B[1;31mNameError\u001B[0m                                 Traceback (most recent call last)",
      "Input \u001B[1;32mIn [6]\u001B[0m, in \u001B[0;36m<cell line: 1>\u001B[1;34m()\u001B[0m\n\u001B[1;32m----> 1\u001B[0m \u001B[43mfit_transform\u001B[49m\n",
      "\u001B[1;31mNameError\u001B[0m: name 'fit_transform' is not defined"
     ]
    }
   ],
   "source": [
    "fit_transform"
   ],
   "metadata": {
    "collapsed": false
   }
  },
  {
   "cell_type": "code",
   "execution_count": 5,
   "outputs": [
    {
     "ename": "AttributeError",
     "evalue": "'DataFrame' object has no attribute 'fit_transform'",
     "output_type": "error",
     "traceback": [
      "\u001B[1;31m---------------------------------------------------------------------------\u001B[0m",
      "\u001B[1;31mAttributeError\u001B[0m                            Traceback (most recent call last)",
      "Input \u001B[1;32mIn [5]\u001B[0m, in \u001B[0;36m<cell line: 1>\u001B[1;34m()\u001B[0m\n\u001B[1;32m----> 1\u001B[0m df\u001B[38;5;241m.\u001B[39mDateReceive \u001B[38;5;241m=\u001B[39m \u001B[43mdf\u001B[49m\u001B[38;5;241;43m.\u001B[39;49m\u001B[43mfit_transform\u001B[49m(df\u001B[38;5;241m.\u001B[39mDateReceive)\n\u001B[0;32m      2\u001B[0m df\u001B[38;5;241m.\u001B[39mProduct \u001B[38;5;241m=\u001B[39m df\u001B[38;5;241m.\u001B[39mfit_transform(df\u001B[38;5;241m.\u001B[39mProduct)\n\u001B[0;32m      3\u001B[0m df\u001B[38;5;241m.\u001B[39mSubProduct \u001B[38;5;241m=\u001B[39m df\u001B[38;5;241m.\u001B[39mfit_transform(df\u001B[38;5;241m.\u001B[39mSubProduct)\n",
      "File \u001B[1;32m~\\AppData\\Local\\Packages\\PythonSoftwareFoundation.Python.3.9_qbz5n2kfra8p0\\LocalCache\\local-packages\\Python39\\site-packages\\pandas\\core\\generic.py:5575\u001B[0m, in \u001B[0;36mNDFrame.__getattr__\u001B[1;34m(self, name)\u001B[0m\n\u001B[0;32m   5568\u001B[0m \u001B[38;5;28;01mif\u001B[39;00m (\n\u001B[0;32m   5569\u001B[0m     name \u001B[38;5;129;01mnot\u001B[39;00m \u001B[38;5;129;01min\u001B[39;00m \u001B[38;5;28mself\u001B[39m\u001B[38;5;241m.\u001B[39m_internal_names_set\n\u001B[0;32m   5570\u001B[0m     \u001B[38;5;129;01mand\u001B[39;00m name \u001B[38;5;129;01mnot\u001B[39;00m \u001B[38;5;129;01min\u001B[39;00m \u001B[38;5;28mself\u001B[39m\u001B[38;5;241m.\u001B[39m_metadata\n\u001B[0;32m   5571\u001B[0m     \u001B[38;5;129;01mand\u001B[39;00m name \u001B[38;5;129;01mnot\u001B[39;00m \u001B[38;5;129;01min\u001B[39;00m \u001B[38;5;28mself\u001B[39m\u001B[38;5;241m.\u001B[39m_accessors\n\u001B[0;32m   5572\u001B[0m     \u001B[38;5;129;01mand\u001B[39;00m \u001B[38;5;28mself\u001B[39m\u001B[38;5;241m.\u001B[39m_info_axis\u001B[38;5;241m.\u001B[39m_can_hold_identifiers_and_holds_name(name)\n\u001B[0;32m   5573\u001B[0m ):\n\u001B[0;32m   5574\u001B[0m     \u001B[38;5;28;01mreturn\u001B[39;00m \u001B[38;5;28mself\u001B[39m[name]\n\u001B[1;32m-> 5575\u001B[0m \u001B[38;5;28;01mreturn\u001B[39;00m \u001B[38;5;28;43mobject\u001B[39;49m\u001B[38;5;241;43m.\u001B[39;49m\u001B[38;5;21;43m__getattribute__\u001B[39;49m\u001B[43m(\u001B[49m\u001B[38;5;28;43mself\u001B[39;49m\u001B[43m,\u001B[49m\u001B[43m \u001B[49m\u001B[43mname\u001B[49m\u001B[43m)\u001B[49m\n",
      "\u001B[1;31mAttributeError\u001B[0m: 'DataFrame' object has no attribute 'fit_transform'"
     ]
    }
   ],
   "source": [
    "df.DateReceive = df.fit_transform(df.DateReceive)\n",
    "df.Product = df.fit_transform(df.Product)\n",
    "df.SubProduct = df.fit_transform(df.SubProduct)\n",
    "df.Issue = df.fit_transform(df.Issue)\n",
    "df.SubIssue = df.fit_transform(df.SubIssue)\n",
    "df.ConsumerComplaintNarrative = df.fit_transform(df.ConsumerComplaintNarrative)\n",
    "df.CompanyPublicResponse = df.fit_transform(df.CompanyPublicResponse)\n",
    "df.Company = df.fit_transform(df.Company)\n",
    "df.State = df.fit_transform(df.State)\n",
    "df.Tags = df.fit_transform(df.Tags)\n",
    "df.ConsumerConsentProvided = df.fit_transform(df.ConsumerConsentProvided)\n",
    "df.SubmittedVia = df.fit_transform(df.SubmittedVia)\n",
    "df.DateSendToCompany = df.fit_transform(df.DateSendToCompany)\n",
    "df.CompanyResponseToConsumer = df.fit_transform(df.CompanyResponseToConsumer)\n",
    "df.TimelyResponse = df.fit_transform(df.TimelyResponse)\n",
    "df.ConsumerDisputed = df.fit_transform(df.ConsumerDisputed)\n",
    "df.ComplaintId = df.fit_transform(df.ComplaintId)"
   ],
   "metadata": {
    "collapsed": false
   }
  },
  {
   "cell_type": "code",
   "execution_count": null,
   "outputs": [],
   "source": [],
   "metadata": {
    "collapsed": false
   }
  }
 ],
 "metadata": {
  "kernelspec": {
   "display_name": "Python 3",
   "language": "python",
   "name": "python3"
  },
  "language_info": {
   "codemirror_mode": {
    "name": "ipython",
    "version": 2
   },
   "file_extension": ".py",
   "mimetype": "text/x-python",
   "name": "python",
   "nbconvert_exporter": "python",
   "pygments_lexer": "ipython2",
   "version": "2.7.6"
  }
 },
 "nbformat": 4,
 "nbformat_minor": 0
}
