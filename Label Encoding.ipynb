{
 "cells": [
  {
   "cell_type": "code",
   "execution_count": 1,
   "metadata": {
    "collapsed": true
   },
   "outputs": [],
   "source": [
    "import pandas as pd\n",
    "import numpy as np\n",
    "from sklearn import preprocessing"
   ]
  },
  {
   "cell_type": "code",
   "execution_count": 2,
   "outputs": [
    {
     "data": {
      "text/plain": "array([     0,    542,      1, ..., 287998, 287999, 288000], dtype=int64)"
     },
     "execution_count": 2,
     "metadata": {},
     "output_type": "execute_result"
    }
   ],
   "source": [
    "df = pd.read_csv('D:\\Project\\DDOS\\Data-Analysis\\data-cleaned .csv')\n",
    "df['Complaint Id'].unique()"
   ],
   "metadata": {
    "collapsed": false
   }
  },
  {
   "cell_type": "code",
   "execution_count": 3,
   "outputs": [],
   "source": [
    "label_encoder = preprocessing.LabelEncoder()"
   ],
   "metadata": {
    "collapsed": false
   }
  },
  {
   "cell_type": "code",
   "execution_count": 4,
   "outputs": [
    {
     "data": {
      "text/plain": "array([     0,    542,      1, ..., 287998, 287999, 288000], dtype=int64)"
     },
     "execution_count": 4,
     "metadata": {},
     "output_type": "execute_result"
    }
   ],
   "source": [
    "df['Complaint Id']= label_encoder.fit_transform(df['Complaint Id'])\n",
    "df['Complaint Id'].unique()"
   ],
   "metadata": {
    "collapsed": false
   }
  },
  {
   "cell_type": "code",
   "execution_count": 5,
   "outputs": [
    {
     "name": "stdout",
     "output_type": "stream",
     "text": [
      "         Date Receive  Product  Sub Product  Issue  Sub Issue  \\\n",
      "0                   0        0            0      0          0   \n",
      "1                   0        0            0      0          0   \n",
      "2                   1        0            0      1          1   \n",
      "3                   0        0            0      1          1   \n",
      "4                   2        1            1      2          2   \n",
      "...               ...      ...          ...    ...        ...   \n",
      "1048570          4000       17           76    158        325   \n",
      "1048571          4000       17           76    158        325   \n",
      "1048572          4000       17           76    158        325   \n",
      "1048573          4000       17           76    158        325   \n",
      "1048574          4000       17           76    158        325   \n",
      "\n",
      "         Consumer Complaint Narrative  Company Public Response  Company  \\\n",
      "0                                   0                        0        0   \n",
      "1                                 359                        0        0   \n",
      "2                                   1                        1        1   \n",
      "3                                   1                        0        0   \n",
      "4                                   2                        0        2   \n",
      "...                               ...                      ...      ...   \n",
      "1048570                         14368                       12     3342   \n",
      "1048571                         14368                       12     3342   \n",
      "1048572                         14368                       12     3342   \n",
      "1048573                         14368                       12     3342   \n",
      "1048574                         14368                       12     3342   \n",
      "\n",
      "         State  Tags  Consumer Consent Provided  Submitted Via  \\\n",
      "0            0     0                          0              0   \n",
      "1            2     0                          0              0   \n",
      "2            1     0                          1              0   \n",
      "3           25     0                          2              0   \n",
      "4            2     0                          0              0   \n",
      "...        ...   ...                        ...            ...   \n",
      "1048570     63     4                         14              7   \n",
      "1048571     63     4                         14              7   \n",
      "1048572     63     4                         14              7   \n",
      "1048573     63     4                         14              7   \n",
      "1048574     63     4                         14              7   \n",
      "\n",
      "         Date Send to Company  Company Response to Consumer  Timely Response  \\\n",
      "0                           0                             0                0   \n",
      "1                           0                             0                0   \n",
      "2                           1                             1                0   \n",
      "3                           0                             0                0   \n",
      "4                           2                             2                0   \n",
      "...                       ...                           ...              ...   \n",
      "1048570                  3861                             9                2   \n",
      "1048571                  3861                             9                2   \n",
      "1048572                  3861                             9                2   \n",
      "1048573                  3861                             9                2   \n",
      "1048574                  3861                             9                2   \n",
      "\n",
      "         Consumer Disputed  Complaint Id  \n",
      "0                        0             0  \n",
      "1                        0           542  \n",
      "2                        0             1  \n",
      "3                        0         11239  \n",
      "4                        0             2  \n",
      "...                    ...           ...  \n",
      "1048570                  3        288000  \n",
      "1048571                  3        288000  \n",
      "1048572                  3        288000  \n",
      "1048573                  3        288000  \n",
      "1048574                  3        288000  \n",
      "\n",
      "[1048575 rows x 17 columns]\n"
     ]
    }
   ],
   "source": [
    "print(df)"
   ],
   "metadata": {
    "collapsed": false
   }
  },
  {
   "cell_type": "code",
   "execution_count": null,
   "outputs": [],
   "source": [],
   "metadata": {
    "collapsed": false
   }
  }
 ],
 "metadata": {
  "kernelspec": {
   "display_name": "Python 3",
   "language": "python",
   "name": "python3"
  },
  "language_info": {
   "codemirror_mode": {
    "name": "ipython",
    "version": 2
   },
   "file_extension": ".py",
   "mimetype": "text/x-python",
   "name": "python",
   "nbconvert_exporter": "python",
   "pygments_lexer": "ipython2",
   "version": "2.7.6"
  }
 },
 "nbformat": 4,
 "nbformat_minor": 0
}
